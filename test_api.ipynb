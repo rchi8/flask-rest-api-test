{
 "cells": [
  {
   "cell_type": "code",
   "execution_count": 36,
   "id": "2d79ed13-85ba-4dc6-832e-a597da9f713a",
   "metadata": {},
   "outputs": [
    {
     "name": "stdout",
     "output_type": "stream",
     "text": [
      "Defaulting to user installation because normal site-packages is not writeable\n",
      "Requirement already satisfied: requests in /home/webmaster/.local/lib/python3.10/site-packages (2.31.0)\n",
      "Requirement already satisfied: charset-normalizer<4,>=2 in /home/webmaster/.local/lib/python3.10/site-packages (from requests) (3.3.0)\n",
      "Requirement already satisfied: idna<4,>=2.5 in /home/webmaster/.local/lib/python3.10/site-packages (from requests) (3.4)\n",
      "Requirement already satisfied: urllib3<3,>=1.21.1 in /home/webmaster/.local/lib/python3.10/site-packages (from requests) (2.0.6)\n",
      "Requirement already satisfied: certifi>=2017.4.17 in /home/webmaster/.local/lib/python3.10/site-packages (from requests) (2023.7.22)\n"
     ]
    }
   ],
   "source": [
    "!pip install requests\n",
    "import requests\n",
    "\n",
    "# APIのベースURL\n",
    "api_url = \"http://127.0.0.1:5000/api/data/\"\n",
    "\n",
    "# GETリクエスト\n",
    "def get_data(data_id=\"\"):\n",
    "    response = requests.get(api_url+ str(data_id))\n",
    "    if response.status_code == 200:\n",
    "        data = response.json()\n",
    "        print(\"GETリクエストのレスポンス:\")\n",
    "        print(data)\n",
    "    else:\n",
    "        print(\"GETリクエストに失敗しました\")\n",
    "\n",
    "# POSTリクエスト\n",
    "def post_data(data_to_post):\n",
    "    response = requests.post(api_url, json=data_to_post)\n",
    "    if response.status_code == 201:  # 201はリソースの作成が成功したことを示す場合が多いです\n",
    "        data = response.json()\n",
    "        print(\"POSTリクエストのレスポンス:\")\n",
    "        print(data)\n",
    "    else:\n",
    "        print(\"POSTリクエストに失敗しました\")\n",
    "\n",
    "# PUTリクエスト\n",
    "def put_data(data_id, data_to_put):\n",
    "    response = requests.put(api_url + str(data_id), json=data_to_put)\n",
    "    if response.status_code == 200:\n",
    "        data = response.json()\n",
    "        print(\"PUTリクエストのレスポンス:\")\n",
    "        print(data)\n",
    "    else:\n",
    "        print(\"PUTリクエストに失敗しました\")\n",
    "\n",
    "# DELETEリクエスト\n",
    "def delete_data(data_id):\n",
    "    response = requests.delete(api_url + str(data_id))\n",
    "    if response.status_code == 204:  # 204はリソースの削除が成功したことを示す場合が多いです\n",
    "        print(\"DELETEリクエストが成功しました\")\n",
    "    else:\n",
    "        print(\"DELETEリクエストに失敗しました\")\n"
   ]
  },
  {
   "cell_type": "code",
   "execution_count": 31,
   "id": "3be65f8f-a7ee-412b-adf6-4b22b13c4818",
   "metadata": {},
   "outputs": [
    {
     "name": "stdout",
     "output_type": "stream",
     "text": [
      "GETリクエストのレスポンス:\n",
      "{'description': 'これはアイテム2です', 'name': 'アイテム2'}\n"
     ]
    }
   ],
   "source": [
    "get_data(\"2\")"
   ]
  },
  {
   "cell_type": "code",
   "execution_count": 32,
   "id": "8673c201-2dfd-43a0-8fa4-56c77f30f830",
   "metadata": {},
   "outputs": [],
   "source": [
    "data_to_post = {'name': 'アイテムnew', 'description': 'これはアイテムnewです'}"
   ]
  },
  {
   "cell_type": "code",
   "execution_count": 33,
   "id": "f74c823b-1654-4d02-8e4f-0daff5ebef31",
   "metadata": {},
   "outputs": [
    {
     "name": "stdout",
     "output_type": "stream",
     "text": [
      "POSTリクエストのレスポンス:\n",
      "{'data_id': '4', 'message': 'データが作成されました'}\n"
     ]
    }
   ],
   "source": [
    "post_data(data_to_post)"
   ]
  },
  {
   "cell_type": "code",
   "execution_count": 9,
   "id": "4954999d-0bec-40df-8c52-714a935b6c2e",
   "metadata": {},
   "outputs": [
    {
     "name": "stdout",
     "output_type": "stream",
     "text": [
      "GETリクエストのレスポンス:\n",
      "{'description': 'これはアイテム2です', 'name': 'アイテム2'}\n"
     ]
    }
   ],
   "source": [
    "get_data(\"2\")"
   ]
  },
  {
   "cell_type": "code",
   "execution_count": 35,
   "id": "562ec1fc-7db4-43f3-a060-918eb5926a3a",
   "metadata": {},
   "outputs": [
    {
     "name": "stdout",
     "output_type": "stream",
     "text": [
      "PUTリクエストのレスポンス:\n",
      "{'data_id': '2', 'message': 'データが更新されました'}\n"
     ]
    }
   ],
   "source": [
    "put_data(2, data_to_post)"
   ]
  },
  {
   "cell_type": "code",
   "execution_count": 37,
   "id": "89aedd75-b066-44c3-a5e7-3a95fefcf517",
   "metadata": {},
   "outputs": [
    {
     "name": "stdout",
     "output_type": "stream",
     "text": [
      "DELETEリクエストに失敗しました\n"
     ]
    }
   ],
   "source": [
    "delete_data(2)"
   ]
  },
  {
   "cell_type": "code",
   "execution_count": 40,
   "id": "fe015056-ceb4-4ee3-a06d-1de416716d1b",
   "metadata": {},
   "outputs": [
    {
     "name": "stdout",
     "output_type": "stream",
     "text": [
      "GETリクエストのレスポンス:\n",
      "{'3': {'description': 'これはアイテムnewです', 'name': 'アイテムnew'}, '4': {'description': 'これはアイテムnewです', 'name': 'アイテムnew'}}\n"
     ]
    }
   ],
   "source": [
    "get_data()"
   ]
  },
  {
   "cell_type": "code",
   "execution_count": 39,
   "id": "41d5b9ab-7a47-4665-b290-70794024da21",
   "metadata": {},
   "outputs": [
    {
     "name": "stdout",
     "output_type": "stream",
     "text": [
      "DELETEリクエストに失敗しました\n"
     ]
    }
   ],
   "source": [
    "delete_data(1)"
   ]
  },
  {
   "cell_type": "code",
   "execution_count": 41,
   "id": "77055d08-dd20-4e5e-ae18-13e14f934bc8",
   "metadata": {},
   "outputs": [
    {
     "name": "stdout",
     "output_type": "stream",
     "text": [
      "DELETEリクエストに失敗しました\n"
     ]
    }
   ],
   "source": [
    "delete_data(4)"
   ]
  },
  {
   "cell_type": "code",
   "execution_count": 42,
   "id": "d8e4a441-c760-480a-a1a6-5629203ca023",
   "metadata": {},
   "outputs": [
    {
     "name": "stdout",
     "output_type": "stream",
     "text": [
      "DELETEリクエストが成功しました\n"
     ]
    }
   ],
   "source": [
    "delete_data(1)"
   ]
  },
  {
   "cell_type": "code",
   "execution_count": null,
   "id": "10d2f73b-995d-4023-9fa0-31148612bd0c",
   "metadata": {},
   "outputs": [],
   "source": []
  }
 ],
 "metadata": {
  "kernelspec": {
   "display_name": "Python 3 (ipykernel)",
   "language": "python",
   "name": "python3"
  },
  "language_info": {
   "codemirror_mode": {
    "name": "ipython",
    "version": 3
   },
   "file_extension": ".py",
   "mimetype": "text/x-python",
   "name": "python",
   "nbconvert_exporter": "python",
   "pygments_lexer": "ipython3",
   "version": "3.10.12"
  }
 },
 "nbformat": 4,
 "nbformat_minor": 5
}
